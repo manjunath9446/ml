{
 "cells": [
  {
   "cell_type": "markdown",
   "id": "e2a37731-e67b-4254-86bb-0a293461983a",
   "metadata": {},
   "source": [
    "# When to use and how to use plots"
   ]
  },
  {
   "cell_type": "markdown",
   "id": "0dd65534-7735-4da9-a625-77287584084e",
   "metadata": {},
   "source": [
    "\n",
    "\n",
    "#pie ,countplot ,histogram,heatmaps,distplot,pairplot"
   ]
  },
  {
   "cell_type": "markdown",
   "id": "33dc4a1f-ed0e-418d-a36d-c8edf50b9715",
   "metadata": {},
   "source": [
    "# countplot"
   ]
  },
  {
   "cell_type": "markdown",
   "id": "788ac059-d8d9-4550-93a5-9824d82b4ee6",
   "metadata": {},
   "source": [
    "***A countplot is a type of data visualization that is commonly used in data analysis and data science to display the frequency or count of categorical variables. It's a useful tool for understanding the distribution of categorical data and identifying patterns or trends within the data.***"
   ]
  },
  {
   "cell_type": "markdown",
   "id": "b7195086-9a83-4ec3-a0b6-ee74cfaeab97",
   "metadata": {},
   "source": [
    "***When to Use Countplot:***\n"
   ]
  },
  {
   "cell_type": "markdown",
   "id": "5cbabfbe-4c5d-4280-ba27-923bb4996f08",
   "metadata": {},
   "source": [
    "Frequency Distribution: What is the distribution of categories within a dataset?\n",
    "\n",
    "Comparing Categories: How do the frequencies of different categories compare to each other?\n",
    "\n",
    "Identifying Dominant Categories: Are there any categories that dominate the dataset?\n",
    "\n",
    "Detecting Outliers or Anomalies: Are there any rare or unexpected categories?"
   ]
  },
  {
   "cell_type": "markdown",
   "id": "511e964f-d5be-4601-a4f9-1444d1bc0101",
   "metadata": {},
   "source": [
    "### how to use countplot: "
   ]
  },
  {
   "cell_type": "markdown",
   "id": "961baa0f-e82d-4b59-9530-915d1ba9aed7",
   "metadata": {},
   "source": [
    "Step 1: Import Required Libraries"
   ]
  },
  {
   "cell_type": "markdown",
   "id": "18598735-c2aa-4d51-a1e0-bdf50e8bfad6",
   "metadata": {},
   "source": [
    "Step 2: Load Your Data"
   ]
  },
  {
   "cell_type": "markdown",
   "id": "2c2e31b3-08b9-4989-8cfd-018fa26daa6e",
   "metadata": {},
   "source": [
    "Step 3: Create the Countplot"
   ]
  },
  {
   "cell_type": "markdown",
   "id": "9fa9868e-c0b2-4f04-982d-2f1ff1217ed6",
   "metadata": {},
   "source": [
    "synatx: sns.countplot(data=data, x='Major')\n"
   ]
  },
  {
   "cell_type": "markdown",
   "id": "91878c91-d5a2-4d62-8f1a-8720d5edfce6",
   "metadata": {},
   "source": [
    "Step 5: Display the Plot"
   ]
  },
  {
   "cell_type": "markdown",
   "id": "5a1e2e4b-8a99-4524-b7ad-b470e50f65bf",
   "metadata": {},
   "source": [
    " ### Example:\n"
   ]
  },
  {
   "cell_type": "code",
   "execution_count": null,
   "id": "52270bac-c4d8-452c-a487-c4fd2b808f89",
   "metadata": {},
   "outputs": [],
   "source": [
    "import seaborn as sns\n",
    "import matplotlib.pyplot as plt\n",
    "data = pd.DataFrame({'Major': ['Engineering', 'Biology', 'Business', 'Engineering', 'Business', 'Biology', 'Engineering', 'Business'],})\n",
    "sns.countplot(data=data, x='Major', palette='Set2')\n",
    "plt.xlabel('Majors')\n",
    "plt.ylabel('Count')\n",
    "plt.title('Distribution of Student Majors')\n",
    "plt.xticks(rotation=45)\n",
    "plt.show() \n"
   ]
  },
  {
   "cell_type": "markdown",
   "id": "baf44fd1-bb40-4bf7-a64c-76e777a7ba7e",
   "metadata": {},
   "source": [
    "### synatx of count plot: \n",
    "\n",
    "seaborn.countplot(\n",
    "    x=None,         # Variable on the x-axis (categorical).\n",
    "    \n",
    "    y=None,         # Variable on the y-axis (optional).\n",
    "    \n",
    "    data=None,      # DataFrame or data source (e.g., a Pandas DataFrame).\n",
    "    \n",
    "    hue=None,       # Additional variable for grouping (categorical).\n",
    "    \n",
    "    order=None,     # Order to display categories.\n",
    "    \n",
    "    hue_order=None, # Order for grouping variable.\n",
    "    \n",
    "    orient=None,    # 'v' (vertical) or 'h' (horizontal) orientation.\n",
    "    \n",
    "    palette=None,   # Color palette to use.\n",
    "    \n",
    "    saturation=0.75, # Intensity of the palette colors.\n",
    "    \n",
    "    ax=None,        # Matplotlib axis object for plotting.\n",
    "    \n",
    "    **kwargs       # Additional keyword arguments for customizing the plot.\n",
    "    \n",
    ")\n"
   ]
  },
  {
   "cell_type": "markdown",
   "id": "82432ef2-579c-402d-868d-7dc050215de8",
   "metadata": {},
   "source": [
    "* x: This parameter specifies the categorical variable that you want to display on the x-axis of the countplot. It represents the categories you want to count.\n",
    "\n",
    "* y: If you provide this parameter, it specifies the variable for the y-axis. However, using only x is more common, and y is typically left as None. If you use y, the countplot will have a horizontal orientation.\n",
    "\n",
    "* data: This parameter is where you provide the data source, typically in the form of a Pandas DataFrame or any other data structure that Seaborn can work with. It's the dataset that contains the categorical variable you're interested in.\n",
    "\n",
    "* hue: Use this parameter to introduce an additional categorical variable that will be used to group and color the bars. For example, you might want to show the count of categories for different groups within your data.\n",
    "\n",
    "* order and hue_order: These parameters allow you to specify the order in which the categories or groups should be displayed. You can use lists of category names to control the order.\n",
    "\n",
    "* orient: This parameter specifies the orientation of the plot. Use 'v' for a vertical (default) orientation, or 'h' for a horizontal orientation.\n",
    "\n",
    "* palette: You can set the color palette for the plot. Seaborn provides various built-in color palettes, or you can create your own custom palette.\n",
    "\n",
    "* saturation: This parameter controls the intensity of the colors in the chosen palette.\n",
    "\n",
    "* ax: If you want to create the countplot on a specific Matplotlib axis object, you can specify it with this parameter. If ax is not provided, a new axis will be created.\n",
    "\n",
    "* **kwargs: You can include additional keyword arguments to customize the appearance of the plot, like title, labels, etc."
   ]
  },
  {
   "cell_type": "markdown",
   "id": "5839487d-3cea-42a7-9c4a-f36e9c1824de",
   "metadata": {},
   "source": [
    "# Pie chart"
   ]
  },
  {
   "cell_type": "markdown",
   "id": "0c065bfb-d315-49bd-a7a6-de4a9c68143d",
   "metadata": {},
   "source": [
    "A pie chart is a type of data visualization that's commonly used to represent the proportions or percentages of different categories within a dataset. It is a circular chart that's divided into slices or wedges, where each slice represents a category, and the size of each slice corresponds to the proportion or percentage of that category relative to the whole."
   ]
  },
  {
   "cell_type": "markdown",
   "id": "cf708cbf-4b91-48e1-bb7d-1863ae69de36",
   "metadata": {},
   "source": [
    "### When to Use a Pie Chart:\n"
   ]
  },
  {
   "cell_type": "markdown",
   "id": "e64b4e60-f91c-4156-9d72-eb89859b9407",
   "metadata": {},
   "source": [
    "Pie charts are most useful when you want to display the parts of a whole and show how each part contributes to the whole. Here are some situations where pie charts can be beneficial:\n",
    "\n",
    "* Showing a Composition: Pie charts are great for illustrating the composition of a single variable, such as the distribution of expenses in a budget, market share of different products, or the breakdown of student majors in a college.\n",
    "\n",
    "* Comparing Proportions: You can use a pie chart to compare the relative sizes of different categories or components. It's easier to grasp proportions when they are represented visually.\n",
    "\n",
    "* Highlighting a Dominant Category: If one category dominates the dataset, a pie chart can make it visually obvious."
   ]
  },
  {
   "cell_type": "markdown",
   "id": "d16084aa-36cd-42ed-9e36-529d3818e3ee",
   "metadata": {},
   "source": [
    "### How to Use a Pie Chart "
   ]
  },
  {
   "cell_type": "markdown",
   "id": "89d2b0e1-aae4-49a3-bfa2-af0448aeda9b",
   "metadata": {},
   "source": [
    "* We first import the necessary libraries, which include Pandas and Matplotlib for data manipulation and visualization.\n",
    "\n",
    "* We create a dictionary with sample data. In this case, it's the number of students in different majors.\n",
    "\n",
    "* We create a Pandas DataFrame from the data.\n",
    "\n",
    "* Use Matplotlib to create the pie chart. Specify the explode parameter to emphasize a particular slice (if needed) and use colors to make the chart more visually appealing.\n",
    "    \n",
    "    explode = (0.1, 0, 0, 0)  )\n",
    "\n",
    "    colors = ['gold', 'lightcoral', 'lightskyblue', 'lightgreen']\n",
    "\n",
    "syntax: plt.pie(expenses, labels=categories, explode=explode, colors=colors, autopct='%1.1f%%', shadow=True, startangle=140)\n",
    "\n",
    "1. explode makes the \"Salaries\" slice pop out a bit (optional).\n",
    "2. colors specifies the colors for each slice (optional).\n",
    "3. autopct adds percentage labels on the chart.\n",
    "4. shadow adds a shadow effect to the chart.\n",
    "5. startangle sets the initial angle of the chart.\n",
    "\n",
    "* We add a title to the chart using plt.title.\n",
    "\n",
    "* Finally, we display the chart with plt.show()"
   ]
  },
  {
   "cell_type": "markdown",
   "id": "71f74872-8647-4335-842e-044ef223a5f5",
   "metadata": {},
   "source": [
    "### Example"
   ]
  },
  {
   "cell_type": "code",
   "execution_count": null,
   "id": "aed00318-40a5-4eae-a32c-3664e83bf847",
   "metadata": {},
   "outputs": [],
   "source": [
    "import pandas as pd\n",
    "import matplotlib.pyplot as plt\n",
    "data = {'Major': ['Engineering', 'Computer Science', 'Biology', 'Business', 'Psychology'],'Number of Students': [150, 120, 80, 60, 40]}\n",
    "df = pd.DataFrame(data)\n",
    "plt.figure(figsize=(8, 8))\n",
    "plt.pie(df['Number of Students'], labels=df['Major'], autopct='%1.1f%%', startangle=140)\n",
    "plt.axis('equal') .\n",
    "plt.title('Distribution of Students by Major')\n",
    "plt.show()\n"
   ]
  },
  {
   "cell_type": "markdown",
   "id": "c3062f23-36df-484f-9486-14d1913634ef",
   "metadata": {},
   "source": [
    "### syntax for matplotlib:\n",
    "matplotlib.pyplot.pie(\n",
    "    x,                   # The values to be plotted as slices.\n",
    "    \n",
    "    labels=None,         # Labels for each slice (category names).\n",
    "    \n",
    "    autopct=None,        # Format for displaying percentages.\n",
    "    \n",
    "    colors=None,         # List of colors for the slices.\n",
    "    \n",
    "    explode=None,        # Explode a slice (separate it from the pie).\n",
    "    \n",
    "    startangle=0,        # The angle at which the first slice starts.\n",
    "    \n",
    "    shadow=False,        # Add a shadow effect to the pie chart.\n",
    "    \n",
    "    counterclock=True,   # Direction of rotation (counterclockwise by default).\n",
    "    \n",
    "    wedgeprops=None,     # Properties for the wedges (e.g., edge color).\n",
    "    \n",
    "    textprops=None,      # Properties for text labels (e.g., font size).\n",
    "    \n",
    "    center=(0, 0),       # Center of the pie chart (default is the center).\n",
    "    \n",
    "    radius=1.0,          # Radius of the pie chart (default is 1).\n",
    "    \n",
    "    frame=False,         # Add a frame around the pie chart.\n",
    "    \n",
    "    labeldistance=None,  # Distance of labels from the center.\n",
    "    \n",
    "    pctdistance=0.6,     # Distance of percentage labels from the center.\n",
    "    \n",
    "    title=None,          # Title for the pie chart.\n",
    "    \n",
    "    normalize=False      # If True, x will be normalized to sum to 1.\n",
    ")\n"
   ]
  },
  {
   "cell_type": "markdown",
   "id": "7001a3da-be4c-4570-8978-eb89c81aaf0a",
   "metadata": {},
   "source": [
    "* x: This parameter represents the values to be plotted as slices in the pie chart. These values should typically be numerical and represent the proportions or sizes of the different categories you want to visualize.\n",
    "\n",
    "* labels: You can provide a list of labels as strings to assign names to each slice in the pie chart. These labels appear as category names next to their respective slices.\n",
    "\n",
    "* autopct: Use this parameter to format how percentages are displayed on each slice. You can specify a format string (e.g., '%1.1f%%') to control the appearance of the percentages.\n",
    "\n",
    "* colors: If you want to specify custom colors for each slice, you can provide a list of colors. By default, Matplotlib will use a set of predefined colors.\n",
    "\n",
    "* explode: To emphasize a specific slice, you can use the explode parameter by providing a list of values where one or more entries are greater than 0. This separates the corresponding slices from the rest of the pie.\n",
    "\n",
    "* startangle: This parameter determines the angle at which the first slice starts. By default, it's set to 0 degrees, but you can change it to control the rotation of the pie chart.\n",
    "\n",
    "* shadow: If set to True, it adds a shadow effect to the pie chart, giving it a 3D appearance.\n",
    "\n",
    "* counterclock: By default, the pie chart rotates counterclockwise. You can set this parameter to False to make it rotate clockwise.\n",
    "\n",
    "* wedgeprops: You can use this parameter to specify properties for the wedges, such as the edge color or other properties related to the individual slices."
   ]
  },
  {
   "cell_type": "markdown",
   "id": "8dea4ec8-b938-4f54-8540-c594455eb445",
   "metadata": {},
   "source": [
    "* textprops: To customize the text labels, such as font size or style, you can provide properties using this parameter.\n",
    "\n",
    "* center: This parameter defines the center of the pie chart. By default, it's at coordinates (0, 0), but you can change it if needed.\n",
    "\n",
    "* radius: The radius parameter sets the radius of the pie chart. The default value is 1, which makes it a unit circle.\n",
    "\n",
    "* frame: If set to True, it adds a frame around the pie chart.\n",
    "\n",
    "* labeldistance: You can specify the distance of labels from the center of the pie chart. A larger value moves the labels away from the center.\n",
    "\n",
    "* pctdistance: Use this parameter to set the distance of percentage labels from the center of the pie chart. It's a fraction of the radius.\n",
    "\n",
    "* title: You can provide a title for your pie chart using this parameter.\n",
    "\n",
    "* normalize: If set to True, it normalizes the values of x to sum to 1, effectively converting the pie chart into a \"proportional pie chart\" where the values represent proportions instead of absolute counts."
   ]
  },
  {
   "cell_type": "markdown",
   "id": "c12b9e8d-2f31-4245-9d63-545ccbb7e4c1",
   "metadata": {},
   "source": [
    "# Histogram"
   ]
  },
  {
   "cell_type": "markdown",
   "id": "70230c3f-f4cb-413e-b111-be387f27c560",
   "metadata": {},
   "source": [
    "A histogram is a type of data visualization that's used to understand the distribution of a continuous variable. It's a way of summarizing data into different \"buckets\" or \"bins\" to show how frequently values fall into each bin. Histograms are useful for visualizing the shape of a dataset and identifying patterns or characteristics of a variable. "
   ]
  },
  {
   "cell_type": "markdown",
   "id": "5935d1a9-2ca7-4b98-bb14-975be12a32cb",
   "metadata": {},
   "source": [
    "### When to Use a Histogram:\n"
   ]
  },
  {
   "cell_type": "markdown",
   "id": "8816b88b-69e5-46c2-aab3-3bf67f7f4634",
   "metadata": {},
   "source": [
    "* Explore Data Distribution: Understand how your data is spread out. Are the values clustered around a particular range, or are they spread out evenly?\n",
    "\n",
    "* Identify Patterns: Detect patterns such as peaks, valleys, and modes in your data. For example, you can see if a test score dataset has more students scoring in one range than another.\n",
    "\n",
    "* Check for Symmetry or Skewness: Determine if your data is symmetric (evenly distributed) or skewed (lopsided).\n",
    "\n",
    "* Find Outliers: Identify data points that are significantly different from the rest, which might be errors or indicate unique behavior."
   ]
  },
  {
   "cell_type": "markdown",
   "id": "86776402-5aa5-4011-82dd-6b5207ed7a01",
   "metadata": {},
   "source": [
    "### How to Use a Histogram "
   ]
  },
  {
   "cell_type": "markdown",
   "id": "dde6f868-26e1-43bf-bf89-b0b22b3d6e5a",
   "metadata": {},
   "source": [
    "* Import Matplotlib\n",
    "* Prepare Your Data\n",
    "* Create the Histogram: Use the plt.hist() function to create the histogram. You pass your data as the first argument and can customize the number of bins, color, and other properties as needed.\n",
    "syntax: plt.hist(exam_scores, bins=5, color='blue', edgecolor='black')\n",
    "\n",
    "   1.exam_scores is your data.\n",
    "\n",
    "  2.bins specifies the number of bins (intervals) you want to divide your data into.\n",
    "\n",
    "  3.color sets the color of the bars.\n",
    "    \n",
    "   4.edgecolor sets the color of the borders of the bars.\n",
    "\n",
    "* Add Labels and Title : \n",
    "\n",
    " plt.xlabel('Exam Scores')\n",
    "\n",
    " plt.ylabel('Number of Students')\n",
    "\n",
    " plt.title('Distribution of Exam Scores')\n",
    "\n",
    "* Display the Histogram: plt.show()\n",
    "\n"
   ]
  },
  {
   "cell_type": "markdown",
   "id": "ba8206d8-603b-4325-8a1e-fa43b11454ff",
   "metadata": {},
   "source": [
    "### syntax of histogram"
   ]
  },
  {
   "cell_type": "markdown",
   "id": "1f577011-580f-483c-878a-9c9e3a6a61ea",
   "metadata": {},
   "source": [
    "matplotlib.pyplot.hist(\n",
    "    x,                  # The dataset you want to create a histogram for (list, array, or sequence of data).\n",
    "    \n",
    "    bins=None,         # The number of bins or the specific bin edges (int, sequence, or array).\n",
    "    \n",
    "    range=None,        # The range of values to consider when constructing bins (tuple).\n",
    "    \n",
    "    density=False,     # If True, the histogram represents a probability density function (PDF).\n",
    "    \n",
    "    cumulative=False,  # If True, the histogram represents a cumulative distribution function (CDF).\n",
    "    \n",
    "    bottom=None,       # The location of the bottom of the bars.\n",
    "    \n",
    "    histtype='bar',    # Type of histogram ('bar', 'barstacked', 'step', 'stepfilled').\n",
    "    \n",
    "    align='mid',       # Alignment of bins and bars ('left', 'mid', 'right').\n",
    "    \n",
    "    orientation='vertical',  # Orientation of the histogram ('vertical' or 'horizontal').\n",
    "    \n",
    "    rwidth=None,       # Width of the bars as a fraction of the bin width.\n",
    "    \n",
    "    log=False,         # If True, the y-axis will be in logarithmic scale.\n",
    "    \n",
    "    color=None,        # Color or list of colors for the bars.\n",
    "    \n",
    "    label=None,        # Label for the legend.\n",
    "    \n",
    "    stacked=False,     # If True, the bars are stacked on top of each other.\n",
    "    \n",
    "    **kwargs           # Additional keyword arguments for customizing the plot.\n",
    ")\n"
   ]
  },
  {
   "cell_type": "markdown",
   "id": "13759f41-6c32-42ea-9eac-5daad74644da",
   "metadata": {},
   "source": [
    "* x: This parameter represents the dataset for which you want to create a histogram. It can be a list, array, or sequence of data values.\n",
    "\n",
    "* bins: You can specify the number of bins (int) you want to divide your data into. Alternatively, you can provide an array or sequence that defines the bin edges, allowing for custom bin widths and intervals.\n",
    "\n",
    "* range: The range parameter specifies the lower and upper bounds of the bins as a tuple. It determines the range of values considered when constructing bins. Values outside this range are ignored.\n",
    "\n",
    "* density: If set to True, the histogram represents a probability density function (PDF) where the area under the histogram equals 1.\n",
    "\n",
    "* cumulative: If set to True, the histogram represents a cumulative distribution function (CDF). It shows the cumulative sum of data points.\n",
    "\n",
    "* bottom: This parameter allows you to specify the location of the bottom of the bars. It is useful when creating stacked histograms.\n",
    "\n",
    "* histtype: You can specify the type of histogram to create. Options include 'bar' (default), 'barstacked', 'step', and 'stepfilled'.\n",
    "\n",
    "* align: Specifies how the bins and bars are aligned. Options include 'left', 'mid' (default), and 'right'.\n",
    "\n",
    "*orientation: Determines the orientation of the histogram. Set it to 'vertical' for a vertical histogram (default) or 'horizontal' for a horizontal histogram.\n",
    "\n",
    "* rwidth: If specified, it sets the width of the bars as a fraction of the bin width.\n",
    "\n",
    "* log: If set to True, the y-axis of the histogram will be displayed in logarithmic scale.\n",
    "\n",
    "* color: You can specify the color or a list of colors for the bars.\n",
    "\n",
    "* label: Use this parameter to provide a label for the histogram, which will be displayed in the legend if you create one.\n",
    "\n",
    "* stacked: If set to True, it stacks the bars on top of each other, useful for comparing the distribution of multiple datasets.\n",
    "\n",
    "* **kwargs: Additional keyword arguments that you can use to customize the appearance of the plot. For example, you can set labels for the x and y axes, title, and more."
   ]
  },
  {
   "cell_type": "markdown",
   "id": "b95d3295-f659-4c20-be72-8ba23666315c",
   "metadata": {},
   "source": [
    "### Example"
   ]
  },
  {
   "cell_type": "markdown",
   "id": "ac07b418-7921-4a96-9c84-6210a264a98f",
   "metadata": {},
   "source": [
    "import matplotlib.pyplot as plt\n",
    "data = [35, 42, 38, 45, 50, 55, 63, 70, 78, 90, 100]\n",
    "plt.hist(data, bins=5, color='skyblue', edgecolor='black')\n",
    "plt.xlabel('Values')\n",
    "plt.ylabel('Frequency')\n",
    "plt.title('Histogram of Sample Data')\n",
    "plt.show()"
   ]
  },
  {
   "cell_type": "markdown",
   "id": "6bef5668-d348-421e-845a-81d579123533",
   "metadata": {},
   "source": [
    "# Heatmaps\n"
   ]
  },
  {
   "cell_type": "markdown",
   "id": "7b26d438-388c-4813-8c61-ae38363b43df",
   "metadata": {},
   "source": [
    "A heatmap is a popular data visualization tool used to represent data in a tabular format by using colors to encode the values of the individual cells. Heatmaps are particularly useful when you want to visualize relationships and patterns in a dataset, especially when working with two-dimensional data like a correlation matrix or a grid of values."
   ]
  },
  {
   "cell_type": "markdown",
   "id": "fe6ec246-6736-4ae9-a9e2-20dd431354f4",
   "metadata": {},
   "source": [
    "### When to Use a Heatmap:\n",
    "\n"
   ]
  },
  {
   "cell_type": "markdown",
   "id": "a7c8a6a0-a7f8-4e4a-a68e-8417a5ec2602",
   "metadata": {},
   "source": [
    "* Visualizing Relationships: Heatmaps are used when you want to visualize the relationships and patterns in a dataset, especially when dealing with two-dimensional data. They are commonly used to explore correlations, dependencies, and interactions between variables.\n",
    "\n",
    "* Correlation Analysis: Heatmaps are an effective way to visualize the correlation matrix of a dataset. They help in identifying which variables are positively, negatively, or weakly correlated.\n",
    "\n",
    "* Data Comparison: Heatmaps allow you to compare data across multiple categories or dimensions. For example, you can use them to visualize sales data by product category and time period.\n",
    "\n",
    "* Highlighting Differences: Heatmaps can highlight differences, outliers, and anomalies in the data. They make it easy to spot values that stand out in a grid of numbers."
   ]
  },
  {
   "cell_type": "markdown",
   "id": "d53dea0a-f15c-446b-83a9-44954e100ced",
   "metadata": {},
   "source": [
    "### How to Create a Heatmap:\n",
    "\n"
   ]
  },
  {
   "cell_type": "markdown",
   "id": "9893c0ce-5362-4719-a22e-1ab84af0e986",
   "metadata": {},
   "source": [
    "* import the necessary libraries\n",
    "* load a sample dataset\n",
    "* create a heatmap using sns.heatmap. We provide the correlation matrix as the data, set annot to True to display the values in each cell, and specify a color map (cmap) for the visualization.\n",
    "* We can customize the title of the heatmap using plt.title\n",
    "* The heatmap is displayed using plt.show().\n",
    "\n"
   ]
  },
  {
   "cell_type": "markdown",
   "id": "ab7a0401-578e-4159-8146-da1213a03894",
   "metadata": {},
   "source": [
    "### Example"
   ]
  },
  {
   "cell_type": "code",
   "execution_count": null,
   "id": "02f1106e-daf4-4c39-bf1b-09369a4a0774",
   "metadata": {},
   "outputs": [],
   "source": [
    "import seaborn as sns\n",
    "import matplotlib.pyplot as plt\n",
    "\n",
    "# Sample data (correlation matrix)\n",
    "data = sns.load_dataset(\"iris\")\n",
    "corr_matrix = data.corr()\n",
    "\n",
    "# Create a heatmap\n",
    "sns.heatmap(corr_matrix, annot=True, cmap=\"coolwarm\")\n",
    "\n",
    "# Customize the title\n",
    "plt.title(\"Correlation Heatmap\")\n",
    "\n",
    "# Show the heatmap\n",
    "plt.show()\n"
   ]
  },
  {
   "cell_type": "markdown",
   "id": "c1af61d1-613c-4f4f-bcbd-541425bd1eb7",
   "metadata": {},
   "source": [
    "### syntax"
   ]
  },
  {
   "cell_type": "markdown",
   "id": "934e2c4d-5123-4407-877e-de6748dda444",
   "metadata": {},
   "source": [
    "seaborn.heatmap(\n",
    "    \n",
    "    data,                   # The 2D data to be visualized.\n",
    "\n",
    "    annot=None,             # If True, display the data values in each cell.\n",
    "    \n",
    "    fmt='.2g',              # Format specification for annot values.\n",
    "    \n",
    "    cmap='viridis',         # Colormap for the heatmap.\n",
    "    \n",
    "    center=None,            # The value in data that corresponds to the center of the colormap.\n",
    "    \n",
    "    linewidths=0,           # Width of the lines separating cells.\n",
    "    \n",
    "    linecolor='white',      # Color of the lines separating cells.\n",
    "    \n",
    "    cbar=True,              # Whether to display a colorbar.\n",
    "    \n",
    "    cbar_kws=None,          # Keyword arguments for configuring the colorbar.\n",
    "    \n",
    "    cbar_ax=None,           # Matplotlib Axes object to draw the colorbar.\n",
    "    \n",
    "    square=False,           # Force the aspect ratio of the plot to be square.\n",
    "    \n",
    "    xticklabels='auto',     # Whether to display x-axis tick labels.\n",
    "    \n",
    "    yticklabels='auto',     # Whether to display y-axis tick labels.\n",
    "    \n",
    "    mask=None,              # A mask for cells to hide.\n",
    "    \n",
    "    ax=None                 # Matplotlib Axes to draw the heatmap.\n",
    ")\n"
   ]
  },
  {
   "cell_type": "markdown",
   "id": "fe779420-7265-4908-b275-51cd8dd6556d",
   "metadata": {},
   "source": [
    "* data: This is the 2D dataset you want to visualize as a heatmap. It's typically a DataFrame, an array, or any data structure that can be represented as a grid.\n",
    "\n",
    "\n",
    "* annot: If set to True, it displays the actual data values in each cell of the heatmap. You can also provide a 2D array of the same shape as data to specify the values manually.\n",
    "    \n",
    "\n",
    "* fmt: This parameter specifies the format of the annotation values. It uses Python's string formatting syntax. For example, '.2g' displays values with two significant figures.\n",
    "\n",
    "\n",
    "* cmap: The colormap defines the color palette used for the heatmap. You can choose from various predefined colormaps, such as 'viridis,' 'coolwarm,' or 'Blues,' or create custom colormaps.\n",
    "    \n",
    "\n",
    "* center: If you want to set a specific value in your data as the midpoint of the colormap, you can use this parameter.\n",
    "    \n",
    "\n",
    "* linewidths: It controls the width of the lines separating the cells in the heatmap. Setting it to a non-zero value adds lines to separate cells visually.\n",
    "    \n",
    "\n",
    "* linecolor: You can specify the color of the lines that separate the cells in the heatmap.\n",
    "\n",
    "* cbar: If True, a colorbar is displayed next to the heatmap, showing the color-to-value mapping. You can set it to False if you don't want a colorbar.\n",
    "\n",
    "\n",
    "* cbar_kws: This parameter allows you to pass keyword arguments to configure the colorbar, such as changing the label or adjusting its position.\n",
    "\n",
    "\n",
    "* cbar_ax: You can specify a Matplotlib Axes object where the colorbar will be drawn.\n",
    "    \n",
    "\n",
    "* square: Setting this parameter to True forces the aspect ratio of the heatmap to be square.\n",
    "    \n",
    "\n",
    "* xticklabels and yticklabels: You can control the visibility of the x-axis and y-axis tick labels. Set to 'auto' to automatically determine if they should be displayed or use a list of labels to customize them.\n",
    "\n",
    "\n",
    "* mask: If you want to hide specific cells in the heatmap, you can provide a Boolean mask of the same shape as your data.\n",
    "\n",
    "\n",
    "* ax: This is the Matplotlib Axes object where the heatmap will be drawn. If not provided, a new Axes object is created."
   ]
  },
  {
   "cell_type": "markdown",
   "id": "a93e06c7-ae7e-4681-bf3e-4fe70b6cda8a",
   "metadata": {},
   "source": [
    "# distplot "
   ]
  },
  {
   "cell_type": "markdown",
   "id": "1d3fe748-9c53-4e67-a607-b9da9acc6b43",
   "metadata": {},
   "source": [
    "A distplot, short for \"distribution plot,\" is a data visualization tool used to explore the distribution of a single variable in a dataset. It combines a histogram with a kernel density estimate (KDE) and often includes additional elements like rug plots. It's a helpful way to understand the shape and characteristics of the data"
   ]
  },
  {
   "cell_type": "markdown",
   "id": "d210a987-b989-410e-bf30-50ef0bc9e1f6",
   "metadata": {},
   "source": [
    "### When to Use a Distplot:\n",
    "\n"
   ]
  },
  {
   "cell_type": "markdown",
   "id": "727e9690-62dd-4288-b02b-0670888383d3",
   "metadata": {},
   "source": [
    "* Exploring Data Distribution: Use a distplot when you want to understand how the values of a single variable are distributed. This is particularly useful for continuous variables like age, income, or test scores.\n",
    "\n",
    "* Identifying Patterns: A distplot can help you identify patterns in the data, such as whether it's symmetric (evenly distributed), skewed (lopsided), or has multiple peaks (modes).\n",
    "\n",
    "* Data Quality Check: It's a valuable tool in data exploration to check for outliers or unusual data points that may need further investigation.\n",
    "\n",
    "* Choosing Analysis Techniques: When you're preparing for statistical analysis, a distplot can provide insight into the data's characteristics and help you decide which analysis techniques are appropriate."
   ]
  },
  {
   "cell_type": "markdown",
   "id": "e51b4766-c12d-4d53-91fd-005795b7013b",
   "metadata": {},
   "source": [
    "### How to Use a Distplot:\n",
    "\n"
   ]
  },
  {
   "cell_type": "markdown",
   "id": "566268c6-5a17-410d-8951-99732e0c0645",
   "metadata": {},
   "source": [
    "* import the necessary libraries, Seaborn and Matplotlib.\n",
    "*  provide a sample dataset in the data list\n",
    "* create a distplot using sns.distplot. We specify the data, the number of bins, and customize its appearance, such as setting the color, displaying a histogram, KDE, and rug plot.\n",
    "*  customize labels for the x and y axes and add a title for clarity.\n",
    "* display the distplot using plt.show()"
   ]
  },
  {
   "cell_type": "markdown",
   "id": "de775388-8865-4c35-b95a-6aced173e3aa",
   "metadata": {},
   "source": [
    " It combines a histogram, a KDE curve, and rug plots to help you understand the data's distribution and characteristics. You can easily spot patterns, identify outliers, and assess the quality of the dataset using this visualization."
   ]
  },
  {
   "cell_type": "markdown",
   "id": "f0848a73-07c1-461c-b6f1-a3665fbc26cd",
   "metadata": {},
   "source": [
    "### Syntax for Distplot: "
   ]
  },
  {
   "cell_type": "markdown",
   "id": "7a3d03ac-4995-4286-8593-427aa8d7282c",
   "metadata": {},
   "source": [
    "seaborn.distplot(\n",
    "    a,                  # The dataset or array of data to be visualized.\n",
    "    \n",
    "    bins=None,          # Number of bins for the histogram or a specific bin specification.\n",
    "    \n",
    "    hist=True,          # Whether to display a histogram (True by default).\n",
    "    \n",
    "    kde=True,           # Whether to display a kernel density estimate (KDE) curve (True by default).\n",
    "    \n",
    "    rug=False,          # Whether to display a rug plot along the x-axis (False by default).\n",
    "    \n",
    "    fit=None,           # A parametric distribution function to fit to the data (None by default).\n",
    "    \n",
    "    hist_kws=None,      # Additional keyword arguments for customizing the histogram.\n",
    "    \n",
    "    kde_kws=None,       # Additional keyword arguments for customizing the KDE curve.\n",
    "    \n",
    "    rug_kws=None,       # Additional keyword arguments for customizing the rug plot.\n",
    "    \n",
    "    fit_kws=None,       # Additional keyword arguments for customizing the fitted distribution curve.\n",
    "    \n",
    "    color=None,         # Color of the plot.\n",
    "    \n",
    "    vertical=False,     # If True, the plot is oriented vertically (False by default).\n",
    "    \n",
    "    axlabel=None,       # Label for the x-axis.\n",
    "    \n",
    "    label=None,         # Label for the plot.\n",
    "    \n",
    "    ax=None             # Matplotlib Axes object to draw the plot.\n",
    ")\n"
   ]
  },
  {
   "cell_type": "markdown",
   "id": "c2ce1c7a-1d6e-46f2-ad39-2c9b986cb69b",
   "metadata": {},
   "source": [
    "let's break down each parameter in the syntax:"
   ]
  },
  {
   "cell_type": "markdown",
   "id": "9d2e3b97-8933-48e1-a402-526896765ffc",
   "metadata": {},
   "source": [
    "* a: This is the dataset or array of data you want to visualize in the distplot. It is typically a one-dimensional sequence or array, like a list, NumPy array, or Pandas Series.\n",
    "\n",
    "* bins: You can specify the number of bins for the histogram. Alternatively, you can provide a specific bin specification, such as a list of bin edges or an integer.\n",
    "\n",
    "* hist: If set to True (which is the default), a histogram is displayed. You can set it to False to omit the histogram.\n",
    "\n",
    "* kde: If set to True (default), a kernel density estimate (KDE) curve is displayed. Set it to False to exclude the KDE.\n",
    "\n",
    "* rug: You can set this parameter to True to display a rug plot along the x-axis, which marks the data points. It's False by default.\n",
    "\n",
    "* fit: This parameter allows you to specify a parametric distribution function to fit to the data. By default, it's set to None, meaning no distribution is fitted.\n",
    "\n",
    "* hist_kws, kde_kws, rug_kws, fit_kws: These are dictionaries of additional keyword arguments for customizing the appearance of the histogram, KDE curve, rug plot, and fitted distribution curve, respectively.\n",
    "\n",
    "* color: You can specify the color of the plot. It accepts a variety of color specifications, such as names, RGB tuples, or hex codes.\n",
    "\n",
    "* vertical: If set to True, the plot is oriented vertically; otherwise, it's horizontal (default is False).\n",
    "\n",
    "* axlabel: This is a label for the x-axis. It's used to provide a meaningful description for the variable you're visualizing.\n",
    "\n",
    "* label: You can set a label for the plot, which is useful when creating legends for multiple plots in the same figure.\n",
    "\n",
    "* ax: If you have an existing Matplotlib Axes object, you can pass it to this parameter to draw the distplot on that Axes."
   ]
  },
  {
   "cell_type": "markdown",
   "id": "6100470d-3201-49b2-9a13-58c8e4fe1111",
   "metadata": {},
   "source": [
    "### Example"
   ]
  },
  {
   "cell_type": "code",
   "execution_count": null,
   "id": "b4b97a44-f50e-4ff4-8469-55f7515a0c6e",
   "metadata": {},
   "outputs": [],
   "source": [
    "import seaborn as sns\n",
    "import matplotlib.pyplot as plt\n",
    "data = [85, 92, 78, 90, 88, 76, 94, 89, 82, 93, 87, 91, 70, 83, 96]\n",
    "\n",
    "# Create a distplot\n",
    "sns.distplot(data, bins=5, hist=True, kde=True, rug=True, color='skyblue')\n",
    "\n",
    "# Customize labels and title\n",
    "plt.xlabel('Test Scores')\n",
    "plt.ylabel('Density')\n",
    "plt.title('Distribution Plot of Test Scores')\n",
    "\n",
    "# Show the distplot\n",
    "plt.show()\n"
   ]
  }
 ],
 "metadata": {
  "kernelspec": {
   "display_name": "Python 3 (ipykernel)",
   "language": "python",
   "name": "python3"
  },
  "language_info": {
   "codemirror_mode": {
    "name": "ipython",
    "version": 3
   },
   "file_extension": ".py",
   "mimetype": "text/x-python",
   "name": "python",
   "nbconvert_exporter": "python",
   "pygments_lexer": "ipython3",
   "version": "3.12.0"
  }
 },
 "nbformat": 4,
 "nbformat_minor": 5
}
