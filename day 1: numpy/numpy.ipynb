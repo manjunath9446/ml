{
 "cells": [
  {
   "cell_type": "markdown",
   "id": "1f4f9e0b-355f-43b6-a397-6c543db254f8",
   "metadata": {},
   "source": [
    "# Numpy"
   ]
  },
  {
   "cell_type": "markdown",
   "id": "839a7296-5df8-4941-a4f7-74afd1160f72",
   "metadata": {},
   "source": [
    " Python is used for multiple purposes, and at most of the time we might deal with complex mathematics formulas and equations. In order to save time in hard coding all those Mathematical equations Python provides Numpy module. Numpy stands for Numerical Python Library, and this is widely used in implementing Neural Networks and in those algorithms where complex mathematics is required. "
   ]
  },
  {
   "cell_type": "markdown",
   "id": "fc03e8f9-476a-4086-98bd-ae538e0de957",
   "metadata": {},
   "source": [
    "### features of numpy "
   ]
  },
  {
   "cell_type": "markdown",
   "id": "93388a3e-b562-4b67-99b9-5a2f53f5d391",
   "metadata": {},
   "source": [
    "* Homogeneous Data Structures\n",
    "* Multidimensional Arrays\n",
    "* Efficient Data Storage and Access\n",
    "* Element-Wise Operations"
   ]
  },
  {
   "cell_type": "markdown",
   "id": "21f847cf-b624-43a5-8eef-850239c646ca",
   "metadata": {},
   "source": [
    "### Install Numpy\n"
   ]
  },
  {
   "cell_type": "markdown",
   "id": "27e6dfe2-dda7-4769-9bb6-a894ce838d1b",
   "metadata": {},
   "source": [
    "pip install numpy"
   ]
  },
  {
   "cell_type": "markdown",
   "id": "a5b735e1-69ee-4a9b-baec-92c340f2f8e9",
   "metadata": {},
   "source": [
    "### Load in NumPy"
   ]
  },
  {
   "cell_type": "code",
   "execution_count": 5,
   "id": "aa3419e0-36e8-4533-a7de-90c482e1ff5c",
   "metadata": {},
   "outputs": [],
   "source": [
    "import numpy as np"
   ]
  },
  {
   "cell_type": "markdown",
   "id": "5985bb0e-1767-45f8-a9f3-72eb136671a2",
   "metadata": {},
   "source": [
    "### Generating Array Using Numpy\n"
   ]
  },
  {
   "cell_type": "code",
   "execution_count": 5,
   "id": "d3cf1b55-bc75-4cc4-8f94-7742f9001aeb",
   "metadata": {},
   "outputs": [],
   "source": [
    "array=np.array([2,3,4])"
   ]
  },
  {
   "cell_type": "code",
   "execution_count": 6,
   "id": "1758adb5-2cdb-4847-a356-26333cfbea51",
   "metadata": {},
   "outputs": [
    {
     "data": {
      "text/plain": [
       "array([2, 3, 4])"
      ]
     },
     "execution_count": 6,
     "metadata": {},
     "output_type": "execute_result"
    }
   ],
   "source": [
    "array"
   ]
  },
  {
   "cell_type": "code",
   "execution_count": 25,
   "id": "7ac7d398-2178-4093-a1d8-0341618ae48d",
   "metadata": {},
   "outputs": [],
   "source": [
    "arr=np.array([2,3,4],dtype='int64')"
   ]
  },
  {
   "cell_type": "markdown",
   "id": "9a04d02b-43ad-4e88-a770-689415112fcd",
   "metadata": {},
   "source": [
    "dtype stands for \"data type,\" and it is a way to specify the type of data that a variable or data structure can hold."
   ]
  },
  {
   "cell_type": "code",
   "execution_count": 27,
   "id": "86825d01-1d66-4f7d-93ae-21776a7c4331",
   "metadata": {},
   "outputs": [
    {
     "data": {
      "text/plain": [
       "array([2, 3, 4], dtype=int64)"
      ]
     },
     "execution_count": 27,
     "metadata": {},
     "output_type": "execute_result"
    }
   ],
   "source": [
    "arr"
   ]
  },
  {
   "cell_type": "code",
   "execution_count": 28,
   "id": "27800d7f-e19b-4e92-b17b-7ac1fa0299fc",
   "metadata": {},
   "outputs": [
    {
     "data": {
      "text/plain": [
       "dtype('int64')"
      ]
     },
     "execution_count": 28,
     "metadata": {},
     "output_type": "execute_result"
    }
   ],
   "source": [
    "arr.dtype"
   ]
  },
  {
   "cell_type": "code",
   "execution_count": 29,
   "id": "e406af26-1480-48fe-a94c-64d2a97ef6e1",
   "metadata": {},
   "outputs": [
    {
     "data": {
      "text/plain": [
       "(3,)"
      ]
     },
     "execution_count": 29,
     "metadata": {},
     "output_type": "execute_result"
    }
   ],
   "source": [
    "arr.shape"
   ]
  },
  {
   "cell_type": "code",
   "execution_count": 30,
   "id": "3676e814-5530-4b0f-9985-1437a5b536d6",
   "metadata": {},
   "outputs": [
    {
     "data": {
      "text/plain": [
       "3"
      ]
     },
     "execution_count": 30,
     "metadata": {},
     "output_type": "execute_result"
    }
   ],
   "source": [
    "arr.size"
   ]
  },
  {
   "cell_type": "code",
   "execution_count": 22,
   "id": "09bc2239-5f9f-40f7-a77f-5f141c6ad587",
   "metadata": {},
   "outputs": [
    {
     "name": "stdout",
     "output_type": "stream",
     "text": [
      "[0.26298762 0.66160896 0.77225089 0.55592088 0.95755991 0.43018921\n",
      " 0.69035253 0.91287005 0.92609178 0.37090879]\n"
     ]
    }
   ],
   "source": [
    "arr = np.random.random(10)\n",
    "print(arr)"
   ]
  },
  {
   "cell_type": "code",
   "execution_count": 5,
   "id": "0c8a100f-f4d4-4d0e-8944-50c6eeb657c8",
   "metadata": {},
   "outputs": [
    {
     "data": {
      "text/plain": [
       "array([[0., 0., 0., 0., 0.],\n",
       "       [0., 0., 0., 0., 0.]])"
      ]
     },
     "execution_count": 5,
     "metadata": {},
     "output_type": "execute_result"
    }
   ],
   "source": [
    "zeros=np.zeros((2,5))\n",
    "zeros"
   ]
  },
  {
   "cell_type": "code",
   "execution_count": 6,
   "id": "28ced613-925a-43b3-a2f4-100ca5295602",
   "metadata": {},
   "outputs": [
    {
     "data": {
      "text/plain": [
       "array([[1., 1., 1., 1., 1.],\n",
       "       [1., 1., 1., 1., 1.]])"
      ]
     },
     "execution_count": 6,
     "metadata": {},
     "output_type": "execute_result"
    }
   ],
   "source": [
    "ones=np.ones((2,5))\n",
    "ones"
   ]
  },
  {
   "cell_type": "code",
   "execution_count": 7,
   "id": "12eba674-7f83-4018-bc7e-f937d779558b",
   "metadata": {},
   "outputs": [
    {
     "data": {
      "text/plain": [
       "(2, 5)"
      ]
     },
     "execution_count": 7,
     "metadata": {},
     "output_type": "execute_result"
    }
   ],
   "source": [
    "zeros.shape"
   ]
  },
  {
   "cell_type": "code",
   "execution_count": 8,
   "id": "d76cd712-49f4-4ec1-9ab2-91ec06bde3d3",
   "metadata": {},
   "outputs": [
    {
     "data": {
      "text/plain": [
       "10"
      ]
     },
     "execution_count": 8,
     "metadata": {},
     "output_type": "execute_result"
    }
   ],
   "source": [
    "zeros.size"
   ]
  },
  {
   "cell_type": "code",
   "execution_count": 11,
   "id": "542582ab-c134-4ded-80cb-204d68dc0940",
   "metadata": {},
   "outputs": [
    {
     "data": {
      "text/plain": [
       "array([ 0,  1,  2,  3,  4,  5,  6,  7,  8,  9, 10, 11, 12, 13, 14])"
      ]
     },
     "execution_count": 11,
     "metadata": {},
     "output_type": "execute_result"
    }
   ],
   "source": [
    "rng=np.arange(15)\n",
    "rng"
   ]
  },
  {
   "cell_type": "markdown",
   "id": "cf73d733-5c79-4456-9d8b-e1c14cf15c3b",
   "metadata": {},
   "source": [
    "### Linspace"
   ]
  },
  {
   "cell_type": "code",
   "execution_count": 12,
   "id": "3db6528a-457a-4aed-ba3f-28efee8af737",
   "metadata": {},
   "outputs": [
    {
     "data": {
      "text/plain": [
       "array([1.        , 1.44444444, 1.88888889, 2.33333333, 2.77777778,\n",
       "       3.22222222, 3.66666667, 4.11111111, 4.55555556, 5.        ])"
      ]
     },
     "execution_count": 12,
     "metadata": {},
     "output_type": "execute_result"
    }
   ],
   "source": [
    "lspace=np.linspace(1,5,10)\n",
    "lspace"
   ]
  },
  {
   "cell_type": "markdown",
   "id": "404d8e23-c80f-4234-8b8c-57474ebfb0a7",
   "metadata": {},
   "source": [
    "Linspace divides a sequence evenly between start and end based on the step value.\n",
    "\n"
   ]
  },
  {
   "cell_type": "code",
   "execution_count": 13,
   "id": "41013c69-1e88-474d-9fe4-0e71d6eb33ce",
   "metadata": {},
   "outputs": [
    {
     "data": {
      "text/plain": [
       "array([[6.23042070e-307, 1.86918699e-306, 1.69121096e-306,\n",
       "        1.33511018e-306, 7.56587585e-307, 7.56593017e-307],\n",
       "       [1.24610383e-306, 1.24610723e-306, 1.37962320e-306,\n",
       "        1.29060871e-306, 2.22522597e-306, 1.33511969e-306],\n",
       "       [1.78022342e-306, 1.05700345e-307, 1.24610383e-306,\n",
       "        1.69118108e-306, 8.06632139e-308, 1.20160711e-306],\n",
       "       [1.69119330e-306, 1.29062229e-306, 1.29060531e-306,\n",
       "        6.89805151e-307, 1.78020169e-306, 1.42410974e-306]])"
      ]
     },
     "execution_count": 13,
     "metadata": {},
     "output_type": "execute_result"
    }
   ],
   "source": [
    "emp=np.empty((4,6))\n",
    "emp"
   ]
  },
  {
   "cell_type": "markdown",
   "id": "d1d59a4c-9b61-4c22-a857-4cf88a65ea5c",
   "metadata": {},
   "source": [
    "The np.empty() function in NumPy is used to create a new NumPy array without initializing its elements to any specific values. This function allocates memory for the array and returns it, but the values in the array will contain whatever was in that memory location at the time of allocation. "
   ]
  },
  {
   "cell_type": "markdown",
   "id": "b92e1d50-01d6-4fd2-b97f-c617c1a7f7a9",
   "metadata": {},
   "source": [
    "syntax:np.empty(shape, dtype=float, order='C')\n"
   ]
  },
  {
   "cell_type": "code",
   "execution_count": 15,
   "id": "6bd2f208-7de1-42a3-a02e-80cb34cfe3f0",
   "metadata": {},
   "outputs": [
    {
     "data": {
      "text/plain": [
       "array([1.        , 1.44444444, 1.88888889, 2.33333333, 2.77777778,\n",
       "       3.22222222, 3.66666667, 4.11111111, 4.55555556, 5.        ])"
      ]
     },
     "execution_count": 15,
     "metadata": {},
     "output_type": "execute_result"
    }
   ],
   "source": [
    "emp_like=np.empty_like(lspace)\n",
    "emp_like"
   ]
  },
  {
   "cell_type": "code",
   "execution_count": 18,
   "id": "0d1905f6-5c50-4101-8299-53d63bca118f",
   "metadata": {},
   "outputs": [
    {
     "data": {
      "text/plain": [
       "array([[1., 0., 0., ..., 0., 0., 0.],\n",
       "       [0., 1., 0., ..., 0., 0., 0.],\n",
       "       [0., 0., 1., ..., 0., 0., 0.],\n",
       "       ...,\n",
       "       [0., 0., 0., ..., 1., 0., 0.],\n",
       "       [0., 0., 0., ..., 0., 1., 0.],\n",
       "       [0., 0., 0., ..., 0., 0., 1.]])"
      ]
     },
     "execution_count": 18,
     "metadata": {},
     "output_type": "execute_result"
    }
   ],
   "source": [
    "ide=np.identity(45)\n",
    "ide"
   ]
  },
  {
   "cell_type": "markdown",
   "id": "c3399702-0e11-43c4-ba41-a610cfb2138f",
   "metadata": {},
   "source": [
    "The np.identity() function in NumPy is used to create an identity matrix"
   ]
  },
  {
   "cell_type": "code",
   "execution_count": 19,
   "id": "c5ebccc5-244b-46c3-97f6-4a237d01f0cf",
   "metadata": {},
   "outputs": [
    {
     "data": {
      "text/plain": [
       "(45, 45)"
      ]
     },
     "execution_count": 19,
     "metadata": {},
     "output_type": "execute_result"
    }
   ],
   "source": [
    "ide.shape"
   ]
  },
  {
   "cell_type": "code",
   "execution_count": 42,
   "id": "bbd13bd7-1a9e-434c-80f3-b8d8cb9f6450",
   "metadata": {},
   "outputs": [],
   "source": [
    "arr=arr.ravel()"
   ]
  },
  {
   "cell_type": "code",
   "execution_count": 43,
   "id": "d038c04a-5427-4b54-bd02-bf1e12a1bcf6",
   "metadata": {},
   "outputs": [
    {
     "data": {
      "text/plain": [
       "array([ 1,  2,  3,  4,  5,  6,  7,  8,  9, 10, 11, 23, 49, 79])"
      ]
     },
     "execution_count": 43,
     "metadata": {},
     "output_type": "execute_result"
    }
   ],
   "source": [
    "arr"
   ]
  },
  {
   "cell_type": "code",
   "execution_count": 8,
   "id": "a68fdf43-e107-437f-84f0-e711d982236c",
   "metadata": {},
   "outputs": [],
   "source": [
    "x=[[1,2,3],[4,5,6],[7,8,9]]"
   ]
  },
  {
   "cell_type": "code",
   "execution_count": 9,
   "id": "0da3aa62-0494-48c2-a397-a103238d1ae2",
   "metadata": {},
   "outputs": [
    {
     "data": {
      "text/plain": [
       "array([[1, 2, 3],\n",
       "       [4, 5, 6],\n",
       "       [7, 8, 9]])"
      ]
     },
     "execution_count": 9,
     "metadata": {},
     "output_type": "execute_result"
    }
   ],
   "source": [
    "ar=np.array(x)\n",
    "ar"
   ]
  },
  {
   "cell_type": "code",
   "execution_count": 46,
   "id": "4879faf0-195e-4e04-b550-10d6e4f1b736",
   "metadata": {},
   "outputs": [
    {
     "data": {
      "text/plain": [
       "array([12, 15, 18])"
      ]
     },
     "execution_count": 46,
     "metadata": {},
     "output_type": "execute_result"
    }
   ],
   "source": [
    "ar.sum(axis=0)"
   ]
  },
  {
   "cell_type": "code",
   "execution_count": 47,
   "id": "005dc94f-c221-4ec9-b554-65624fdba5f6",
   "metadata": {},
   "outputs": [
    {
     "data": {
      "text/plain": [
       "array([ 6, 15, 24])"
      ]
     },
     "execution_count": 47,
     "metadata": {},
     "output_type": "execute_result"
    }
   ],
   "source": [
    "ar.sum(axis=1)"
   ]
  },
  {
   "cell_type": "markdown",
   "id": "42999fc9-60ae-4a63-bfff-7031a24e9971",
   "metadata": {},
   "source": [
    "### Transpose Of The Array\n"
   ]
  },
  {
   "cell_type": "code",
   "execution_count": 48,
   "id": "3d9a6459-8bc8-4da0-8b91-03dcc533d0de",
   "metadata": {},
   "outputs": [
    {
     "data": {
      "text/plain": [
       "array([[1, 4, 7],\n",
       "       [2, 5, 8],\n",
       "       [3, 6, 9]])"
      ]
     },
     "execution_count": 48,
     "metadata": {},
     "output_type": "execute_result"
    }
   ],
   "source": [
    "ar.T"
   ]
  },
  {
   "cell_type": "markdown",
   "id": "cbc5af97-5633-4f30-ae83-15134108cb0d",
   "metadata": {},
   "source": [
    "Transpose of the matrix is the interchange of row and column elements. Transpose of the matrix also effects the shape of an array. For instance if the original array as 3 rows and 2 columns then the transpose of the matrix will have 2 rows and 3 columns.\n",
    "\n"
   ]
  },
  {
   "cell_type": "code",
   "execution_count": 49,
   "id": "46340100-0389-4e41-ade2-91ae56990272",
   "metadata": {},
   "outputs": [
    {
     "data": {
      "text/plain": [
       "<numpy.flatiter at 0x2bf3663f000>"
      ]
     },
     "execution_count": 49,
     "metadata": {},
     "output_type": "execute_result"
    }
   ],
   "source": [
    "ar.flat"
   ]
  },
  {
   "cell_type": "code",
   "execution_count": 50,
   "id": "19659c1f-2839-44f5-bfff-79116e6579c8",
   "metadata": {},
   "outputs": [
    {
     "name": "stdout",
     "output_type": "stream",
     "text": [
      "1\n",
      "2\n",
      "3\n",
      "4\n",
      "5\n",
      "6\n",
      "7\n",
      "8\n",
      "9\n"
     ]
    }
   ],
   "source": [
    "for item in ar.flat:\n",
    "    print(item)"
   ]
  },
  {
   "cell_type": "markdown",
   "id": "881d248c-990b-4c44-9ec7-35cf6551e269",
   "metadata": {},
   "source": [
    "ar.flat attribute provides a one-dimensional (1D) iterator over the elements of a NumPy array ar. It allows you to access and iterate over the individual elements of the array as if it were flattened into a 1D structure, without actually altering the shape or structure of the original array"
   ]
  },
  {
   "cell_type": "markdown",
   "id": "c1282ca1-3a07-4b26-ab2c-e3bf8bc72842",
   "metadata": {},
   "source": [
    "### N-Dimensional Arrays\n"
   ]
  },
  {
   "cell_type": "code",
   "execution_count": 10,
   "id": "0ceb1ea9-60c4-45a9-a012-b463bb1cee0a",
   "metadata": {},
   "outputs": [
    {
     "data": {
      "text/plain": [
       "2"
      ]
     },
     "execution_count": 10,
     "metadata": {},
     "output_type": "execute_result"
    }
   ],
   "source": [
    "ar.ndim"
   ]
  },
  {
   "cell_type": "markdown",
   "id": "a3b24b10-10dc-4a1d-9074-b8f18fd628a3",
   "metadata": {},
   "source": [
    "N-Dimensional Arrays means Multiple Dimensional Arrays. Where N is integer value starts from 2 and ends to N(infinity value).\n",
    "\n",
    "\n"
   ]
  },
  {
   "cell_type": "markdown",
   "id": "c20ea639-05db-4452-a794-136a2f056ba0",
   "metadata": {},
   "source": [
    "To check the dimension of the numpy array we use ndim attribute.\n",
    "\n"
   ]
  },
  {
   "cell_type": "code",
   "execution_count": 11,
   "id": "cdcf5f1e-50a9-4cc0-a8e1-a808fefc9dbe",
   "metadata": {},
   "outputs": [
    {
     "data": {
      "text/plain": [
       "9"
      ]
     },
     "execution_count": 11,
     "metadata": {},
     "output_type": "execute_result"
    }
   ],
   "source": [
    "ar.size"
   ]
  },
  {
   "cell_type": "markdown",
   "id": "f4dc8833-710c-417e-a231-4a1c309d0a03",
   "metadata": {},
   "source": [
    "### Memory Bytes Of An Array\n"
   ]
  },
  {
   "cell_type": "code",
   "execution_count": 53,
   "id": "cfd473ec-ba1c-4b21-978e-ad1dbd80c897",
   "metadata": {},
   "outputs": [
    {
     "data": {
      "text/plain": [
       "36"
      ]
     },
     "execution_count": 53,
     "metadata": {},
     "output_type": "execute_result"
    }
   ],
   "source": [
    "ar.nbytes"
   ]
  },
  {
   "cell_type": "markdown",
   "id": "f5397230-8abc-484e-a2df-1d68cf533cd3",
   "metadata": {},
   "source": [
    "nbytes calculates the total bytes used by the elements of the NumPy array.\n",
    "\n"
   ]
  },
  {
   "cell_type": "code",
   "execution_count": 54,
   "id": "0821346b-f328-4f90-8aca-6d8c19985230",
   "metadata": {},
   "outputs": [
    {
     "data": {
      "text/plain": [
       "array([  1,   3,   4, 567,  45])"
      ]
     },
     "execution_count": 54,
     "metadata": {},
     "output_type": "execute_result"
    }
   ],
   "source": [
    "one=np.array([1,3,4,567,45])\n",
    "one"
   ]
  },
  {
   "cell_type": "markdown",
   "id": "aace3e55-ad43-47c8-8fb8-ee1b999041f5",
   "metadata": {},
   "source": [
    "### finding the indices of elements"
   ]
  },
  {
   "cell_type": "code",
   "execution_count": 56,
   "id": "00dc92b8-8979-4f76-927c-ef84f85f2b36",
   "metadata": {},
   "outputs": [
    {
     "data": {
      "text/plain": [
       "3"
      ]
     },
     "execution_count": 56,
     "metadata": {},
     "output_type": "execute_result"
    }
   ],
   "source": [
    "one.argmax()"
   ]
  },
  {
   "cell_type": "markdown",
   "id": "0c358699-9f3a-4e60-890c-b5060b0cd363",
   "metadata": {},
   "source": [
    "This function returns the index of the maximum value in a NumPy array. If you have an array, it tells you the position of the largest element in that array."
   ]
  },
  {
   "cell_type": "code",
   "execution_count": 57,
   "id": "18e62415-29ba-4cb1-b4ce-cb8257dfdfc8",
   "metadata": {},
   "outputs": [
    {
     "data": {
      "text/plain": [
       "0"
      ]
     },
     "execution_count": 57,
     "metadata": {},
     "output_type": "execute_result"
    }
   ],
   "source": [
    "one.argmin()"
   ]
  },
  {
   "cell_type": "markdown",
   "id": "604bcf17-9cc3-405d-99b5-c9780e4a7e82",
   "metadata": {},
   "source": [
    "this function returns the index of the minimum value in a NumPy array. It helps you find the position of the smallest element."
   ]
  },
  {
   "cell_type": "code",
   "execution_count": 59,
   "id": "ea100e71-4bb9-46a1-9583-c072d1c20d67",
   "metadata": {},
   "outputs": [
    {
     "data": {
      "text/plain": [
       "array([0, 1, 2, 4, 3], dtype=int64)"
      ]
     },
     "execution_count": 59,
     "metadata": {},
     "output_type": "execute_result"
    }
   ],
   "source": [
    "one.argsort()"
   ]
  },
  {
   "cell_type": "markdown",
   "id": "9759c0f3-bae4-4c41-bb7a-00bd72b2164f",
   "metadata": {},
   "source": [
    "The argsort() function returns the indices that would sort an array. In other words, it provides the indices that would rearrange the array in ascending order."
   ]
  },
  {
   "cell_type": "code",
   "execution_count": 62,
   "id": "6cd37896-7410-46e3-b332-9015077cbd40",
   "metadata": {},
   "outputs": [
    {
     "data": {
      "text/plain": [
       "array([2, 2, 2], dtype=int64)"
      ]
     },
     "execution_count": 62,
     "metadata": {},
     "output_type": "execute_result"
    }
   ],
   "source": [
    "ar.argmax(axis=0)"
   ]
  },
  {
   "cell_type": "code",
   "execution_count": 63,
   "id": "3472038e-1965-4ee2-8a8b-278371e59c88",
   "metadata": {},
   "outputs": [
    {
     "data": {
      "text/plain": [
       "array([0, 0, 0], dtype=int64)"
      ]
     },
     "execution_count": 63,
     "metadata": {},
     "output_type": "execute_result"
    }
   ],
   "source": [
    "ar.argmin(axis=1)"
   ]
  },
  {
   "cell_type": "code",
   "execution_count": 64,
   "id": "9d1c3e80-92ed-4317-8ec1-3640acab0ad6",
   "metadata": {},
   "outputs": [
    {
     "data": {
      "text/plain": [
       "array([[0, 0, 0],\n",
       "       [1, 1, 1],\n",
       "       [2, 2, 2]], dtype=int64)"
      ]
     },
     "execution_count": 64,
     "metadata": {},
     "output_type": "execute_result"
    }
   ],
   "source": [
    "ar.argsort(axis=0)"
   ]
  },
  {
   "cell_type": "code",
   "execution_count": 65,
   "id": "82b3c56c-ab7f-420a-bb54-23b080817fe6",
   "metadata": {},
   "outputs": [
    {
     "data": {
      "text/plain": [
       "array([[0, 1, 2],\n",
       "       [0, 1, 2],\n",
       "       [0, 1, 2]], dtype=int64)"
      ]
     },
     "execution_count": 65,
     "metadata": {},
     "output_type": "execute_result"
    }
   ],
   "source": [
    "ar.argsort(axis=1)"
   ]
  },
  {
   "cell_type": "markdown",
   "id": "c6901387-dca0-4c7a-b3d3-0a696fcf6094",
   "metadata": {},
   "source": [
    "### Generating Random Arrays"
   ]
  },
  {
   "cell_type": "code",
   "execution_count": 66,
   "id": "5ab71693-cf23-4e88-b0a4-2be30ca24d89",
   "metadata": {},
   "outputs": [
    {
     "name": "stdout",
     "output_type": "stream",
     "text": [
      "[0.47989147 0.27238868 0.75598353 0.4517963  0.12121742 0.45613303\n",
      " 0.64334531 0.3584882  0.50711655 0.50386917]\n"
     ]
    }
   ],
   "source": [
    "arr10 = np.random.random(10)\n",
    "print(arr10)"
   ]
  },
  {
   "cell_type": "markdown",
   "id": "b4ef7f83-4d67-4009-b60a-59b00a901032",
   "metadata": {},
   "source": [
    "np.random.random(): This function generates an array of random numbers from a uniform distribution between 0 and 1."
   ]
  },
  {
   "cell_type": "code",
   "execution_count": 13,
   "id": "3be8cdc8-1d35-4b52-8bd6-d10946d3de77",
   "metadata": {},
   "outputs": [
    {
     "data": {
      "text/plain": [
       "array([0.3681971 , 0.38815196, 0.95669437, 0.64289356, 0.38881807,\n",
       "       0.64425758, 0.65641778, 0.9470266 , 0.96577605, 0.08115839])"
      ]
     },
     "execution_count": 13,
     "metadata": {},
     "output_type": "execute_result"
    }
   ],
   "source": [
    "np.random.rand(10)"
   ]
  },
  {
   "cell_type": "code",
   "execution_count": 14,
   "id": "f249ff6b-e295-4501-b7f3-13b1af6784fd",
   "metadata": {},
   "outputs": [
    {
     "data": {
      "text/plain": [
       "array([-0.96554359, -0.459003  , -0.05026228, -0.58264317, -0.60484294])"
      ]
     },
     "execution_count": 14,
     "metadata": {},
     "output_type": "execute_result"
    }
   ],
   "source": [
    "np.random.randn(5)"
   ]
  },
  {
   "cell_type": "markdown",
   "id": "381ef9db-4beb-45fc-a30f-58e82a149fde",
   "metadata": {},
   "source": [
    "np.random.randn(): This function generates an array of random numbers from a standard normal distribution (mean 0, standard deviation 1). "
   ]
  },
  {
   "cell_type": "markdown",
   "id": "e2774ff7-38a6-4103-9ce4-c7f9a04c0838",
   "metadata": {},
   "source": [
    "### Shape And Reshape An Array\n"
   ]
  },
  {
   "cell_type": "code",
   "execution_count": 68,
   "id": "cd9f36f3-517c-451f-b8f7-9a5d52d472da",
   "metadata": {},
   "outputs": [
    {
     "data": {
      "text/plain": [
       "array([1, 2, 3, 4, 5, 6, 7, 8, 9])"
      ]
     },
     "execution_count": 68,
     "metadata": {},
     "output_type": "execute_result"
    }
   ],
   "source": [
    "ar.ravel()"
   ]
  },
  {
   "cell_type": "markdown",
   "id": "5943f919-d159-402a-bd0b-9c5a2fbbf54e",
   "metadata": {},
   "source": [
    "ravel is a function that's used to flatten a multi-dimensional array into a one-dimensional array"
   ]
  },
  {
   "cell_type": "code",
   "execution_count": 70,
   "id": "693fac6a-6568-41de-8f1f-6f5f80415f73",
   "metadata": {},
   "outputs": [
    {
     "data": {
      "text/plain": [
       "array([[1],\n",
       "       [2],\n",
       "       [3],\n",
       "       [4],\n",
       "       [5],\n",
       "       [6],\n",
       "       [7],\n",
       "       [8],\n",
       "       [9]])"
      ]
     },
     "execution_count": 70,
     "metadata": {},
     "output_type": "execute_result"
    }
   ],
   "source": [
    "ar.reshape((9,1))"
   ]
  },
  {
   "cell_type": "markdown",
   "id": "14fdfb22-32e2-4f5b-8168-bf1d1193b044",
   "metadata": {},
   "source": [
    "The reshape function in NumPy  that allows you to change the shape (i.e., the dimensions) of a NumPy array without altering its data. I"
   ]
  },
  {
   "cell_type": "code",
   "execution_count": 78,
   "id": "91cc1c91-76d8-44ba-a542-398681d345b6",
   "metadata": {},
   "outputs": [
    {
     "data": {
      "text/plain": [
       "array([[1, 2, 1],\n",
       "       [4, 0, 6],\n",
       "       [8, 1, 0]])"
      ]
     },
     "execution_count": 78,
     "metadata": {},
     "output_type": "execute_result"
    }
   ],
   "source": [
    "ar2=np.array([[1,2,1],[4,0,6],[8,1,0]])\n",
    "ar2\n"
   ]
  },
  {
   "cell_type": "code",
   "execution_count": 79,
   "id": "5b8ec0e0-d7ae-4bcc-b447-ae08e043499f",
   "metadata": {},
   "outputs": [
    {
     "data": {
      "text/plain": [
       "array([[ 2,  4,  4],\n",
       "       [ 8,  5, 12],\n",
       "       [15,  9,  9]])"
      ]
     },
     "execution_count": 79,
     "metadata": {},
     "output_type": "execute_result"
    }
   ],
   "source": [
    "ar+ar2"
   ]
  },
  {
   "cell_type": "code",
   "execution_count": 80,
   "id": "1a63b66e-7ad0-4a7b-a554-b547a6744d23",
   "metadata": {},
   "outputs": [
    {
     "data": {
      "text/plain": [
       "array([[ 1,  4,  3],\n",
       "       [16,  0, 36],\n",
       "       [56,  8,  0]])"
      ]
     },
     "execution_count": 80,
     "metadata": {},
     "output_type": "execute_result"
    }
   ],
   "source": [
    "ar*ar2"
   ]
  },
  {
   "cell_type": "code",
   "execution_count": 81,
   "id": "2dd63d5d-1cb2-42da-8b77-d4b791f62050",
   "metadata": {},
   "outputs": [
    {
     "data": {
      "text/plain": [
       "array([[1.        , 1.41421356, 1.73205081],\n",
       "       [2.        , 2.23606798, 2.44948974],\n",
       "       [2.64575131, 2.82842712, 3.        ]])"
      ]
     },
     "execution_count": 81,
     "metadata": {},
     "output_type": "execute_result"
    }
   ],
   "source": [
    "np.sqrt(ar)"
   ]
  },
  {
   "cell_type": "code",
   "execution_count": 82,
   "id": "15219510-3c74-479c-91a3-56bfd4ea3561",
   "metadata": {},
   "outputs": [
    {
     "data": {
      "text/plain": [
       "(array([1, 2, 2, 2], dtype=int64), array([2, 0, 1, 2], dtype=int64))"
      ]
     },
     "execution_count": 82,
     "metadata": {},
     "output_type": "execute_result"
    }
   ],
   "source": [
    "np.where(ar>5)"
   ]
  },
  {
   "cell_type": "markdown",
   "id": "57864557-0a60-48a8-8688-d66b15902071",
   "metadata": {},
   "source": [
    "The np.where() function takes a condition as an argument and returns the indices where that condition is True. In this case, the condition is ar > 5. It returns the indices of elements in ar that are greater than 5."
   ]
  },
  {
   "cell_type": "code",
   "execution_count": 84,
   "id": "afd4806a-ae31-4dbf-b283-19a425fbb473",
   "metadata": {},
   "outputs": [
    {
     "data": {
      "text/plain": [
       "tuple"
      ]
     },
     "execution_count": 84,
     "metadata": {},
     "output_type": "execute_result"
    }
   ],
   "source": [
    "type(np.where(ar>5))"
   ]
  },
  {
   "cell_type": "code",
   "execution_count": 85,
   "id": "da353ec9-1371-4780-a727-cba0e0a22068",
   "metadata": {},
   "outputs": [],
   "source": [
    "import sys"
   ]
  },
  {
   "cell_type": "code",
   "execution_count": 86,
   "id": "f1d46fa9-8e60-4607-9c64-56d84a3bc912",
   "metadata": {},
   "outputs": [],
   "source": [
    "py_ar=[0,4,552]"
   ]
  },
  {
   "cell_type": "code",
   "execution_count": 87,
   "id": "c455fdc4-a731-42a4-a51b-677e2fe58464",
   "metadata": {},
   "outputs": [],
   "source": [
    "np_ar=np.array(py_ar)"
   ]
  },
  {
   "cell_type": "code",
   "execution_count": 89,
   "id": "5f68d1fc-29d3-461a-8b4a-7905a686564b",
   "metadata": {},
   "outputs": [
    {
     "data": {
      "text/plain": [
       "84"
      ]
     },
     "execution_count": 89,
     "metadata": {},
     "output_type": "execute_result"
    }
   ],
   "source": [
    "sys.getsizeof(1)*len(py_ar)"
   ]
  },
  {
   "cell_type": "code",
   "execution_count": 94,
   "id": "3d3d2884-2ebc-485c-b9ad-2eb402ef3c10",
   "metadata": {},
   "outputs": [
    {
     "data": {
      "text/plain": [
       "12"
      ]
     },
     "execution_count": 94,
     "metadata": {},
     "output_type": "execute_result"
    }
   ],
   "source": [
    "np_ar.itemsize*np_ar.size"
   ]
  },
  {
   "cell_type": "markdown",
   "id": "dee14c69-f2b3-46b0-a1c6-b3cd1c6dcfcd",
   "metadata": {},
   "source": [
    "itemsize gives the memory size of one element of NumPy array in bytes.\n",
    "\n"
   ]
  },
  {
   "cell_type": "code",
   "execution_count": null,
   "id": "4c324c62-6b65-4fcb-953a-f70b5936075e",
   "metadata": {},
   "outputs": [],
   "source": []
  }
 ],
 "metadata": {
  "kernelspec": {
   "display_name": "Python 3 (ipykernel)",
   "language": "python",
   "name": "python3"
  },
  "language_info": {
   "codemirror_mode": {
    "name": "ipython",
    "version": 3
   },
   "file_extension": ".py",
   "mimetype": "text/x-python",
   "name": "python",
   "nbconvert_exporter": "python",
   "pygments_lexer": "ipython3",
   "version": "3.12.0"
  }
 },
 "nbformat": 4,
 "nbformat_minor": 5
}
